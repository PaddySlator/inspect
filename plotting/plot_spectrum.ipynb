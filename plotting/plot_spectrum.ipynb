{
 "cells": [
  {
   "cell_type": "code",
   "execution_count": 1,
   "metadata": {
    "collapsed": true
   },
   "outputs": [],
   "source": [
    "import numpy as np\n",
    "import matplotlib.pyplot as plt\n",
    "%matplotlib inline\n",
    "import scipy.io as sio\n"
   ]
  },
  {
   "cell_type": "code",
   "execution_count": 9,
   "metadata": {
    "collapsed": true
   },
   "outputs": [],
   "source": [
    "#choose the file to plot\n",
    "MERA_file = '/Users/paddyslator/Documents/PlacentaDocs/papers/t2sdiff/lungs/pip0111_lungs_MERA_fit.mat'\n",
    "#choose where to save the figure\n",
    "save_dir = 'choose_somewhere'\n",
    "#define the constrasts for this experiment (e.g. 'ADC', 'T2*' if the b-value and echo time were varied) \n",
    "contrasts = ['ADC ($10^{-3}$ mm$^2$s$^{-1}$)', 'T2* (ms)'] \n",
    "\n"
   ]
  },
  {
   "cell_type": "code",
   "execution_count": 10,
   "metadata": {
    "collapsed": false
   },
   "outputs": [],
   "source": [
    "MERA_data = sio.loadmat(MERA_file)"
   ]
  },
  {
   "cell_type": "code",
   "execution_count": 11,
   "metadata": {
    "collapsed": false
   },
   "outputs": [
    {
     "data": {
      "image/png": "[encoded data removed]",
      "text/plain": [
       "<matplotlib.figure.Figure at 0x10d0de198>"
      ]
     },
     "metadata": {},
     "output_type": "display_data"
    }
   ],
   "source": [
    "#plot t2*-ADC spectrums\n",
    "\n",
    "#make the plot\n",
    "fig = plt.figure(figsize=(5, 5))\n",
    "ax = fig.add_subplot(111)\n",
    "\n",
    "#make grid from the contrast values\n",
    "X, Y = np.meshgrid(MERA_data['MERA_out2D']['T2'][0,0], \n",
    "          MERA_data['MERA_out2D']['T'][0,0])\n",
    "\n",
    "#plot the image  \n",
    "im = ax.contour(X,\n",
    "               Y,\n",
    "               MERA_data['MERA_out2D']['S'][0,0])\n",
    "\n",
    "#set y-axis to log-scale\n",
    "ax.set_yscale('log')\n",
    "#add axis labels \n",
    "plt.ylabel(contrasts[0],fontsize=20)\n",
    "plt.xlabel(contrasts[1],fontsize=20)\n",
    "\n",
    "#set the axis limits \n",
    "#ADC\n",
    "ax.set_ylim([0, 1000])\n",
    "#T2*\n",
    "ax.set_xlim([0.01, 0.2])\n",
    "\n",
    "#add big subplot for shared x and y labels\n",
    "fig.add_subplot(111, frameon=False)\n",
    "plt.tick_params(labelcolor='none', top='off', bottom='off', left='off', right='off')\n",
    "plt.grid(False)\n",
    "\n",
    "fig.tight_layout()\n",
    "\n",
    "\n",
    "\n",
    "#plt.savefig(save_dir + '.png', format='png', dpi=100,bbox_inches='tight')\n",
    "#plt.savefig(save_dir + '.eps', format='eps', dpi=100,bbox_inches='tight')"
   ]
  },
  {
   "cell_type": "code",
   "execution_count": null,
   "metadata": {
    "collapsed": true
   },
   "outputs": [],
   "source": []
  }
 ],
 "metadata": {
  "kernelspec": {
   "display_name": "Python 3",
   "language": "python",
   "name": "python3"
  },
  "language_info": {
   "codemirror_mode": {
    "name": "ipython",
    "version": 3
   },
   "file_extension": ".py",
   "mimetype": "text/x-python",
   "name": "python",
   "nbconvert_exporter": "python",
   "pygments_lexer": "ipython3",
   "version": "3.5.3"
  }
 },
 "nbformat": 4,
 "nbformat_minor": 0
}
